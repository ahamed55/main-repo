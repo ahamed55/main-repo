{
  "nbformat": 4,
  "nbformat_minor": 0,
  "metadata": {
    "colab": {
      "name": "Tensorflow.ipynb",
      "provenance": [],
      "mount_file_id": "1niGCXx31tVlVFhsqUarwOByeUrKfSs4U",
      "authorship_tag": "ABX9TyN22bDzAYsValaCsWZGtqaX",
      "include_colab_link": true
    },
    "kernelspec": {
      "name": "python3",
      "display_name": "Python 3"
    },
    "language_info": {
      "name": "python"
    }
  },
  "cells": [
    {
      "cell_type": "markdown",
      "metadata": {
        "id": "view-in-github",
        "colab_type": "text"
      },
      "source": [
        "<a href=\"https://colab.research.google.com/github/ahamed55/main-repo/blob/master/Tensorflow.ipynb\" target=\"_parent\"><img src=\"https://colab.research.google.com/assets/colab-badge.svg\" alt=\"Open In Colab\"/></a>"
      ]
    },
    {
      "cell_type": "code",
      "execution_count": null,
      "metadata": {
        "id": "XzGXV2NSZmcy"
      },
      "outputs": [],
      "source": [
        "# Import tensorflow library  \n",
        "import tensorflow as tf\n"
      ]
    },
    {
      "cell_type": "code",
      "source": [
        "# Initialize two constants\n",
        "a1 = tf.constant([4,3,2,1])\n",
        "a2 = tf.constant([1,3,4,7])"
      ],
      "metadata": {
        "id": "Mm1T4OmGZ5um"
      },
      "execution_count": null,
      "outputs": []
    },
    {
      "cell_type": "code",
      "source": [
        "# Perform Multiplication\n",
        "res = tf.multiply(a1, a2)"
      ],
      "metadata": {
        "id": "YaJJQ95paDPj"
      },
      "execution_count": null,
      "outputs": []
    },
    {
      "cell_type": "code",
      "source": [
        "\n",
        "# Print the result\n",
        "tf.print(res)"
      ],
      "metadata": {
        "colab": {
          "base_uri": "https://localhost:8080/"
        },
        "id": "gnA5gQv3aEbw",
        "outputId": "9d97141b-1e3f-4bb7-fa8a-8e55d0cef457"
      },
      "execution_count": null,
      "outputs": [
        {
          "output_type": "stream",
          "name": "stdout",
          "text": [
            "[4 9 8 7]\n"
          ]
        }
      ]
    },
    {
      "cell_type": "code",
      "source": [
        "!pwd\n",
        "\n"
      ],
      "metadata": {
        "colab": {
          "base_uri": "https://localhost:8080/"
        },
        "id": "VX8j73OKHf4h",
        "outputId": "4dc01b27-5d07-478b-a295-714086328222"
      },
      "execution_count": 4,
      "outputs": [
        {
          "output_type": "stream",
          "name": "stdout",
          "text": [
            "/content\n"
          ]
        }
      ]
    }
  ]
}