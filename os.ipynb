{
 "cells": [
  {
   "cell_type": "code",
   "execution_count": 11,
   "source": [
    "with open(\"working with class and object.py\",\"w\"):\r\n",
    "    pass\r\n"
   ],
   "outputs": [],
   "metadata": {}
  }
 ],
 "metadata": {
  "orig_nbformat": 4,
  "language_info": {
   "name": "python",
   "version": "3.9.5",
   "mimetype": "text/x-python",
   "codemirror_mode": {
    "name": "ipython",
    "version": 3
   },
   "pygments_lexer": "ipython3",
   "nbconvert_exporter": "python",
   "file_extension": ".py"
  },
  "kernelspec": {
   "name": "python3",
   "display_name": "Python 3.9.5 64-bit"
  },
  "interpreter": {
   "hash": "a6f28da833426e59e61225c05a24796a72b9c6711abe1a61a1c0400d609bd8d7"
  }
 },
 "nbformat": 4,
 "nbformat_minor": 2
}